{
 "cells": [
  {
   "cell_type": "code",
   "execution_count": 5,
   "metadata": {},
   "outputs": [],
   "source": [
    "import os\n",
    "import pandas as pd\n",
    "import numpy as np\n",
    "import subprocess\n",
    "from datetime import datetime\n",
    "import json\n",
    "import requests\n",
    "from bs4 import BeautifulSoup\n",
    "\n",
    "pd.set_option('display.max_rows', 500)"
   ]
  },
  {
   "cell_type": "markdown",
   "metadata": {},
   "source": [
    "# Data fetch and preparation"
   ]
  },
  {
   "cell_type": "code",
   "execution_count": 6,
   "metadata": {},
   "outputs": [
    {
     "name": "stdout",
     "output_type": "stream",
     "text": [
      " Number of rows stored: 63042\n",
      " Latest date is: 2020-09-14 00:00:00\n"
     ]
    }
   ],
   "source": [
    "def store_relational_JH_data():\n",
    "    ''' Transformes the COVID data in a relational data set\n",
    "\n",
    "    '''\n",
    "\n",
    "    data_path='../data/raw/COVID-19/csse_covid_19_data/csse_covid_19_time_series/time_series_covid19_confirmed_global.csv'\n",
    "    pd_raw=pd.read_csv(data_path)\n",
    "\n",
    "    pd_data_base=pd_raw.rename(columns={'Country/Region':'country',\n",
    "                      'Province/State':'state'})\n",
    "\n",
    "    pd_data_base['state']=pd_data_base['state'].fillna('no')\n",
    "\n",
    "    pd_data_base=pd_data_base.drop(['Lat','Long'],axis=1)\n",
    "\n",
    "\n",
    "    pd_relational_model=pd_data_base.set_index(['state','country']) \\\n",
    "                                .T                              \\\n",
    "                                .stack(level=[0,1])             \\\n",
    "                                .reset_index()                  \\\n",
    "                                .rename(columns={'level_0':'date',\n",
    "                                                   0:'confirmed'},\n",
    "                                                  )\n",
    "\n",
    "    pd_relational_model['date']=pd_relational_model.date.astype('datetime64[ns]')\n",
    "\n",
    "    pd_relational_model.to_csv('../data/processed/COVID_relational_confirmed.csv',sep=';',index=False)\n",
    "    print(' Number of rows stored: '+str(pd_relational_model.shape[0]))\n",
    "    print(' Latest date is: '+str(max(pd_relational_model.date)))\n",
    "if __name__ == '__main__':\n",
    "\n",
    "    store_relational_JH_data()\n"
   ]
  },
  {
   "cell_type": "markdown",
   "metadata": {},
   "source": [
    "# Web scrapping : \n",
    "# Confirmed : https://github.com/CSSEGISandData/COVID-19/blob/master/csse_covid_19_data/csse_covid_19_time_series/time_series_covid19_confirmed_global.csv\n",
    "# Recovered : https://github.com/CSSEGISandData/COVID-19/blob/master/csse_covid_19_data/csse_covid_19_time_series/time_series_covid19_recovered_global.csv\n",
    "# Deaths : https://github.com/CSSEGISandData/COVID-19/blob/master/csse_covid_19_data/csse_covid_19_time_series/time_series_covid19_deaths_global.csv"
   ]
  },
  {
   "cell_type": "code",
   "execution_count": 7,
   "metadata": {},
   "outputs": [],
   "source": [
    "# Get the data from the URL mentioned above\n",
    "def getLatestData(info_type):\n",
    "    if info_type == \"confirmed\":\n",
    "        response = requests.get(\"https://github.com/CSSEGISandData/COVID-19/blob/master/csse_covid_19_data/csse_covid_19_time_series/time_series_covid19_confirmed_global.csv\")\n",
    "    elif info_type == \"deaths\":\n",
    "        response = requests.get(\"https://github.com/CSSEGISandData/COVID-19/blob/master/csse_covid_19_data/csse_covid_19_time_series/time_series_covid19_deaths_global.csv\")\n",
    "    elif info_type == \"recovered\":\n",
    "        response = requests.get(\"https://github.com/CSSEGISandData/COVID-19/blob/master/csse_covid_19_data/csse_covid_19_time_series/time_series_covid19_recovered_global.csv\")\n",
    "    soup = BeautifulSoup(response.content, 'html.parser')\n",
    "    html_table=soup.find('table')\n",
    "    all_rows=html_table.find_all('tr')\n",
    "    jh_data_list=[]\n",
    "    for pos,rows in enumerate(all_rows):\n",
    "        if pos==0:\n",
    "            header_list = [each_col.get_text(strip=True) for each_col in rows.find_all('th')]\n",
    "        else:\n",
    "            col_list=[each_col.get_text(strip=True) for each_col in rows.find_all('td')] #td for data element\n",
    "            jh_data_list.append(col_list)\n",
    "    return jh_data_list,header_list\n",
    "    "
   ]
  },
  {
   "cell_type": "code",
   "execution_count": 8,
   "metadata": {},
   "outputs": [],
   "source": [
    "# Prepare the data for visualization and modelling\n",
    "def prepareDataframe(jh_data_list,header_list):\n",
    "    header_list.insert(0,'index')\n",
    "    jh_data_df=pd.DataFrame(jh_data_list)\n",
    "    jh_data_df.columns=header_list\n",
    "    #jh_data_df.head()\n",
    "    time_idx=jh_data_df.columns[5:]\n",
    "    country_list=jh_data_df['Country/Region']\n",
    "    jh_data_transformed_df = pd.DataFrame({'date':time_idx})\n",
    "    for each in country_list:\n",
    "        jh_data_transformed_df[each] = np.array(jh_data_df[jh_data_df['Country/Region']==each].iloc[:,5::].astype(int).sum(axis=0))\n",
    "    #jh_data_transformed_df.tail()\n",
    "    time_idx=[datetime.strptime( each,\"%m/%d/%y\") for each in jh_data_transformed_df.date] # convert to datetime\n",
    "    time_str=[each.strftime('%Y-%m-%d') for each in time_idx] # convert back to date ISO norm (str)\n",
    "    jh_data_transformed_df['date']=time_idx\n",
    "    return jh_data_transformed_df"
   ]
  },
  {
   "cell_type": "code",
   "execution_count": 9,
   "metadata": {},
   "outputs": [],
   "source": [
    "jh_confirmed_list,header_list = getLatestData(\"confirmed\")\n",
    "jh_confirmed_df = prepareDataframe(jh_confirmed_list,header_list)\n",
    "#jh_confirmed_df\n",
    "jh_deaths_list,header_list = getLatestData(\"deaths\")\n",
    "jh_deaths_df = prepareDataframe(jh_deaths_list,header_list)\n",
    "#jh_deaths_df\n",
    "jh_recovered_list,header_list = getLatestData(\"recovered\")\n",
    "jh_recovered_df = prepareDataframe(jh_recovered_list,header_list)\n",
    "#jh_recovered_df"
   ]
  },
  {
   "cell_type": "code",
   "execution_count": 10,
   "metadata": {},
   "outputs": [],
   "source": [
    "#save the df to files\n",
    "jh_confirmed_df.to_csv('../data/processed/COVID_small_flat_confirmed_table.csv',sep=';',index=False)\n",
    "jh_recovered_df.to_csv('../data/processed/COVID_small_flat_recovered_table.csv',sep=';',index=False)\n",
    "jh_deaths_df.to_csv('../data/processed/COVID_small_flat_deaths_table.csv',sep=';',index=False)"
   ]
  },
  {
   "cell_type": "code",
   "execution_count": 11,
   "metadata": {},
   "outputs": [],
   "source": [
    "def getPopulationData():\n",
    "    response = requests.get(\"https://www.worldometers.info/world-population/population-by-country/\")\n",
    "    response.content\n",
    "    soup = BeautifulSoup(response.content, 'html.parser')\n",
    "    html_table=soup.find('table')\n",
    "    all_rows=html_table.find_all('tr')\n",
    "    jh_data_list=[]\n",
    "    for pos,rows in enumerate(all_rows):\n",
    "        if pos==0:\n",
    "            header_list = [each_col.get_text(strip=True) for each_col in rows.find_all('th')]\n",
    "        else:\n",
    "            col_list=[each_col.get_text(strip=True) for each_col in rows.find_all('td')]\n",
    "            jh_data_list.append(col_list)\n",
    "    jh_data_df = pd.DataFrame(jh_data_list)\n",
    "    return jh_data_df.iloc[:, 1:3]"
   ]
  },
  {
   "cell_type": "code",
   "execution_count": 12,
   "metadata": {},
   "outputs": [],
   "source": [
    "pop_data = getPopulationData()\n",
    "countries = pop_data[1]\n",
    "population = pop_data[2]\n",
    "pop_df = pd.DataFrame(columns=countries)\n",
    "pop_df.loc[len(pop_df)] = population.tolist()\n",
    "pop_df.rename(columns={'United States': 'US'}, inplace=True)\n",
    "pop_df.to_csv('../data/processed/world_population.csv',sep=';',index=False)"
   ]
  }
 ],
 "metadata": {
  "kernelspec": {
   "display_name": "Python 3",
   "language": "python",
   "name": "python3"
  },
  "language_info": {
   "codemirror_mode": {
    "name": "ipython",
    "version": 3
   },
   "file_extension": ".py",
   "mimetype": "text/x-python",
   "name": "python",
   "nbconvert_exporter": "python",
   "pygments_lexer": "ipython3",
   "version": "3.7.8"
  }
 },
 "nbformat": 4,
 "nbformat_minor": 4
}
